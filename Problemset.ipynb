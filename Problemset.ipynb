{
 "cells": [
  {
   "cell_type": "markdown",
   "id": "3a728acd",
   "metadata": {},
   "source": [
    "# Q1.What data type is each of the following (evaluate where necessary)?\n",
    "5\n",
    "5.0\n",
    "5 > 1\n",
    "'5' \n",
    "5 * 2\n",
    "'5' * 2 \n",
    "'5' + '2'\n",
    "5 / 2 \n",
    "5 % 2 \n",
    "{5, 2, 1}\n",
    "5 == 3\n",
    "Pi (the number)"
   ]
  },
  {
   "cell_type": "raw",
   "id": "aafa24bb",
   "metadata": {},
   "source": [
    "int \n",
    "float \n",
    "boolean\n",
    "string \n",
    "int \n",
    "string \n",
    "string\n",
    "float \n",
    "string\n",
    "set\n",
    "boolean\n",
    "float"
   ]
  },
  {
   "cell_type": "markdown",
   "id": "43888892",
   "metadata": {},
   "source": [
    "# Question 2\n",
    "Write (and evaluate) python expressions that answer these questions: a. How many letters are there in 'Supercalifragilisticexpialidocious'? b. Does 'Supercalifragilisticexpialidocious' contain 'ice' as a substring? c. Which of the following words is the longest: Supercalifragilisticexpialidocious, Honorificabilitudinitatibus, or Bababadalgharaghtakamminarronnkonn? d. Which composer comes first in the dictionary: 'Berlioz', 'Borodin', 'Brian', 'Bartok', 'Bellini', 'Buxtehude', 'Bernstein'. Which one comes last?"
   ]
  },
  {
   "cell_type": "code",
   "execution_count": 3,
   "id": "3b08bb40",
   "metadata": {},
   "outputs": [
    {
     "name": "stdout",
     "output_type": "stream",
     "text": [
      "34\n"
     ]
    }
   ],
   "source": [
    "print(len('Supercalifragilisticexpialidocious'))"
   ]
  },
  {
   "cell_type": "code",
   "execution_count": 4,
   "id": "147febb2",
   "metadata": {},
   "outputs": [
    {
     "data": {
      "text/plain": [
       "True"
      ]
     },
     "execution_count": 4,
     "metadata": {},
     "output_type": "execute_result"
    }
   ],
   "source": [
    "'ice' in 'Supercalifragilisticexpialidocious'\n"
   ]
  },
  {
   "cell_type": "code",
   "execution_count": 5,
   "id": "d4f4ed9f",
   "metadata": {},
   "outputs": [
    {
     "data": {
      "text/plain": [
       "34"
      ]
     },
     "execution_count": 5,
     "metadata": {},
     "output_type": "execute_result"
    }
   ],
   "source": [
    "len('Supercalifragilisticexpialidocious') "
   ]
  },
  {
   "cell_type": "code",
   "execution_count": 6,
   "id": "fd25f7d5",
   "metadata": {},
   "outputs": [
    {
     "data": {
      "text/plain": [
       "27"
      ]
     },
     "execution_count": 6,
     "metadata": {},
     "output_type": "execute_result"
    }
   ],
   "source": [
    "len(\"Honorificabilitudinitatibus\")"
   ]
  },
  {
   "cell_type": "code",
   "execution_count": 7,
   "id": "107b33ce",
   "metadata": {},
   "outputs": [
    {
     "data": {
      "text/plain": [
       "34"
      ]
     },
     "execution_count": 7,
     "metadata": {},
     "output_type": "execute_result"
    }
   ],
   "source": [
    "len(\"Bababadalgharaghtakamminarronnkonn\")"
   ]
  },
  {
   "cell_type": "raw",
   "id": "cde21850",
   "metadata": {},
   "source": [
    "# d. dictionary lists the words in alphabetic order \n",
    "First = Bartok\n",
    "last = buxtehude"
   ]
  },
  {
   "cell_type": "code",
   "execution_count": null,
   "id": "32e04843",
   "metadata": {},
   "outputs": [],
   "source": []
  },
  {
   "cell_type": "markdown",
   "id": "f21ba1e7",
   "metadata": {},
   "source": [
    "# Question 3\n",
    "Implement function triangleArea(a,b,c) that takes as input the lengths of the 3 sides of a triangle and returns the area of the triangle. By Heron's formula, the area of a triangle with side lengths a, b, and c iss(s - a)(s - b)(s - c) , wheres = (a + b + c)/2 .\n",
    "\n",
    "triangleArea(2,2,2) 1.7320508075688772"
   ]
  },
  {
   "cell_type": "code",
   "execution_count": 8,
   "id": "a47bdc48",
   "metadata": {},
   "outputs": [
    {
     "name": "stdout",
     "output_type": "stream",
     "text": [
      "1.7320508075688772\n"
     ]
    }
   ],
   "source": [
    "import math \n",
    "def triangleArea(a,b,c):\n",
    "   s =(a+b+c)/2 #perimeter of triangle\n",
    "   area = math.sqrt(s * (s - a)*(s - b)*(s - c)) # area using heron's formula\n",
    "   return area\n",
    "print(triangleArea(2,2,2))"
   ]
  },
  {
   "cell_type": "code",
   "execution_count": null,
   "id": "6bd13dd0",
   "metadata": {},
   "outputs": [],
   "source": []
  },
  {
   "cell_type": "markdown",
   "id": "c9a5b0c2",
   "metadata": {},
   "source": [
    "# Question 4\n",
    "Write a program in python to separate odd and even integers in separate arrays. Go to the editor Test Data : Input the number of elements to be stored in the array :5 Input 5 elements in the array : element - 0 : 25 element - 1 : 47 element - 2 : 42 element - 3 : 56 element - 4 : 32 Expected Output: The Even elements are: 42 56 32 The Odd elements are : 25 47"
   ]
  },
  {
   "cell_type": "code",
   "execution_count": 88,
   "id": "fefbbf37",
   "metadata": {},
   "outputs": [
    {
     "name": "stdout",
     "output_type": "stream",
     "text": [
      "Input the number of elements to be stored in the array: 5\n",
      "Input 5 elements in the array:\n",
      "element - 0 : 23\n",
      "element - 1 : 22\n",
      "element - 2 : 42\n",
      "element - 3 : 35\n",
      "element - 4 : 31\n",
      "The Even elements are:\n",
      "22 42\n",
      "The Odd elements are:\n",
      "23 35 31\n"
     ]
    }
   ],
   "source": [
    "def separate_odd_even(arr):\n",
    "    even_elements = []\n",
    "    odd_elements = []\n",
    "    for num in arr:\n",
    "        if num % 2 == 0:       #check for input and output\n",
    "            even_elements.append(num)\n",
    "        else:\n",
    "            odd_elements.append(num)\n",
    "    return even_elements, odd_elements\n",
    "\n",
    "num_elements = int(input(\"Input the number of elements to be stored in the array: \"))\n",
    "\n",
    "  \n",
    "array = []                    #input\n",
    "print(f\"Input {num_elements} elements in the array:\")\n",
    "for i in range(num_elements):\n",
    "    element = int(input(f\"element - {i} : \"))\n",
    "    array.append(element)\n",
    "\n",
    "\n",
    "even_elements, odd_elements = separate_odd_even(array)\n",
    "\n",
    "\n",
    "print(\"The Even elements are:\")          #output\n",
    "print(\" \".join(map(str, even_elements)))\n",
    "\n",
    "print(\"The Odd elements are:\")\n",
    "print(\" \".join(map(str, odd_elements)))"
   ]
  },
  {
   "cell_type": "markdown",
   "id": "0584f037",
   "metadata": {},
   "source": [
    "# Question 5\n",
    "Write a function inside(x,y,x1,y1,x2,y2) that returns True or False\n",
    "depending on whether the point (x,y) lies in the rectangle with lower left corner (x1,y1) and upper right corner (x2,y2)."
   ]
  },
  {
   "cell_type": "code",
   "execution_count": 82,
   "id": "0f8fcf23",
   "metadata": {},
   "outputs": [
    {
     "name": "stdout",
     "output_type": "stream",
     "text": [
      "False\n",
      "False\n"
     ]
    }
   ],
   "source": [
    "def FindPoint(x1, y1, x2,y2, x, y) :\n",
    "    if (x > x1 and x < x2 and\n",
    "        y > y1 and y < y2) :\n",
    "        return True\n",
    "    else :\n",
    "        return False\n",
    "    \n",
    "print(FindPoint(1,1,0,0,2,3))\n",
    "print(FindPoint(-1,-1,0,0,2,3))\n"
   ]
  },
  {
   "cell_type": "code",
   "execution_count": null,
   "id": "3b3c4313",
   "metadata": {},
   "outputs": [],
   "source": []
  },
  {
   "cell_type": "markdown",
   "id": "e99acecb",
   "metadata": {},
   "source": [
    "# Question 6\n",
    "Use function inside() from part a. to write an expression that tests whether\n",
    "the point (1,1) lies in both of the following rectangles: one with lower left corner (0.3, 0.5) and upper right corner (1.1, 0.7) and the other with lower left corner (0.5, 0.2) and upper right corner (1.1, 2)"
   ]
  },
  {
   "cell_type": "code",
   "execution_count": 83,
   "id": "4bd19a38",
   "metadata": {},
   "outputs": [
    {
     "name": "stdout",
     "output_type": "stream",
     "text": [
      "False\n"
     ]
    }
   ],
   "source": [
    "def inside(x, y, x1, y1, x2, y2):\n",
    "    return x1 <= x <= x2 and y1 <= y <= y2\n",
    "point_x, point_y = 1, 1\n",
    "\n",
    "# Rectangle 1\n",
    "rect1_x1, rect1_y1 = 0.3, 0.5\n",
    "rect1_x2, rect1_y2 = 1.1, 0.7\n",
    "\n",
    "# Rectangle 2\n",
    "rect2_x1, rect2_y1 = 0.5, 0.2\n",
    "rect2_x2, rect2_y2 = 1.1, 2\n",
    "\n",
    "# Check if the point (1, 1) is inside both rectangles\n",
    "is_inside_both = (\n",
    "    inside(point_x, point_y, rect1_x1, rect1_y1, rect1_x2, rect1_y2) and\n",
    "    inside(point_x, point_y, rect2_x1, rect2_y1, rect2_x2, rect2_y2)\n",
    ")\n",
    "\n",
    "print(is_inside_both)  # Output: False\n"
   ]
  },
  {
   "cell_type": "code",
   "execution_count": null,
   "id": "d548bf9f",
   "metadata": {},
   "outputs": [],
   "source": []
  },
  {
   "cell_type": "markdown",
   "id": "44c5aa0c",
   "metadata": {},
   "source": [
    "# Question 7\n",
    "File bloodtype1.txt records blood-types of patients (A, B, AB, O or OO) at a clinic.\n",
    "Write a function bldcount() that reads the file with name name and reports (i.e.,\n",
    "prints) how many patients there are in each bloodtype.\n",
    "bldcount('bloodtype.txt')\n",
    "There are 10 patients of blood type A.\n",
    "There is one patient of blood type B.\n",
    "There are 10 patients of blood type AB.\n",
    "There are 12 patients of blood type O.\n",
    "There are no patients of blood type OO"
   ]
  },
  {
   "cell_type": "code",
   "execution_count": 84,
   "id": "e5526c6b",
   "metadata": {},
   "outputs": [
    {
     "name": "stdout",
     "output_type": "stream",
     "text": [
      "There are 15 patients of blood type A.\n",
      "There is one patient of blood type B.\n",
      "There are 13 patients of blood type AB.\n",
      "There are 15 patients of blood type O.\n",
      "There are no patients of blood type OO.\n"
     ]
    }
   ],
   "source": [
    "def bldcount(filename):\n",
    "    \n",
    "    with open(filename, 'r') as file:      # Read the file \n",
    "        data = file.read().split()         #split the file\n",
    "    blood_types = ['A', 'B', 'AB', 'O', 'OO']\n",
    " \n",
    "    counts = {blood_type: data.count(blood_type) for blood_type in blood_types}\n",
    "    \n",
    "    \n",
    "    for blood_type, count in counts.items():\n",
    "        if count == 0:\n",
    "            print(f\"There are no patients of blood type {blood_type}.\")\n",
    "        elif count == 1:\n",
    "            print(f\"There is one patient of blood type {blood_type}.\")\n",
    "        else:\n",
    "            print(f\"There are {count} patients of blood type {blood_type}.\")\n",
    "\n",
    "\n",
    "bldcount('bloodtype1.txt') #file name for output\n"
   ]
  },
  {
   "cell_type": "markdown",
   "id": "c8eb1cf4",
   "metadata": {},
   "source": [
    "# Question 8\n",
    "Write a function curconv() that takes as input:\n",
    "1. a currency represented using a string (e.g., 'JPY' for the Japanese Yen or\n",
    "'EUR' for the Euro)\n",
    "2. an amount\n",
    "and then converts and returns the amount in US dollars.\n",
    " curconv('EUR', 100)\n",
    "122.96544\n",
    " curconv('JPY', 100)\n",
    "1.241401\n",
    "The currency rates you will need are stored in file currencies.txt:\n",
    "AUD 1.0345157 Australian Dollar\n",
    "CHF 1.0237414 Swiss Franc\n",
    "CNY 0.1550176 Chinese Yuan\n",
    "DKK 0.1651442 Danish Krone\n",
    "EUR 1.2296544 Euro\n",
    "GBP 1.5550989 British Pound\n",
    "HKD 0.1270207 Hong Kong Dollar\n",
    "INR 0.0177643 Indian Rupee\n",
    "JPY 0.01241401 Japanese Yen\n",
    "MXN 0.0751848 Mexican Peso\n",
    "MYR 0.3145411 Malaysian Ringgit\n",
    "NOK 0.1677063 Norwegian Krone\n",
    "NZD 0.8003591 New Zealand Dollar\n",
    "PHP 0.0233234 Philippine Peso\n",
    "SEK 0.148269 Swedish Krona\n",
    "SGD 0.788871 Singapore Dollar\n",
    "THB 0.0313789 Thai Baht"
   ]
  },
  {
   "cell_type": "code",
   "execution_count": 85,
   "id": "d719e4c0",
   "metadata": {},
   "outputs": [
    {
     "name": "stdout",
     "output_type": "stream",
     "text": [
      "122.96544\n",
      "1.241401\n"
     ]
    }
   ],
   "source": [
    "def curconv(currency, amount):\n",
    " \n",
    "    exchange_rates = {}   #storing currency rates\n",
    "    \n",
    "    \n",
    "    with open('currencies.txt', 'r') as file:\n",
    "        for line in file:                            # Read the file\n",
    "            parts = line.split()\n",
    "            code = parts[0]\n",
    "            rate = float(parts[1])\n",
    "            exchange_rates[code] = rate\n",
    "    \n",
    "    \n",
    "    if currency in exchange_rates:                   #conversion rate\n",
    "        conversion_rate = exchange_rates[currency]\n",
    "    \n",
    "    \n",
    " \n",
    "    amount_in_usd = amount * conversion_rate         #return amount in usd\n",
    "    \n",
    "    return amount_in_usd\n",
    "\n",
    "\n",
    "print(curconv('EUR', 100))  # Output: 122.96544\n",
    "print(curconv('JPY', 100))  # Output: 1.241401\n"
   ]
  },
  {
   "cell_type": "markdown",
   "id": "55b845fc",
   "metadata": {},
   "source": [
    "# Question 9 \n",
    "Each of the following will cause an exception (an error). Identify what type of\n",
    "exception each will cause"
   ]
  },
  {
   "cell_type": "code",
   "execution_count": 86,
   "id": "f6373e85",
   "metadata": {},
   "outputs": [
    {
     "ename": "TypeError",
     "evalue": "unsupported operand type(s) for +: 'int' and 'str'",
     "output_type": "error",
     "traceback": [
      "\u001b[0;31m---------------------------------------------------------------------------\u001b[0m",
      "\u001b[0;31mTypeError\u001b[0m                                 Traceback (most recent call last)",
      "Cell \u001b[0;32mIn[86], line 1\u001b[0m\n\u001b[0;32m----> 1\u001b[0m R1 \u001b[38;5;241m=\u001b[39m \u001b[38;5;241;43m6\u001b[39;49m\u001b[43m \u001b[49m\u001b[38;5;241;43m+\u001b[39;49m\u001b[43m \u001b[49m\u001b[38;5;124;43m'\u001b[39;49m\u001b[38;5;124;43maa\u001b[39;49m\u001b[38;5;124;43m'\u001b[39;49m\n\u001b[1;32m      2\u001b[0m \u001b[38;5;28mprint\u001b[39m(R1)\n",
      "\u001b[0;31mTypeError\u001b[0m: unsupported operand type(s) for +: 'int' and 'str'"
     ]
    }
   ],
   "source": [
    "R1 = 6 + 'aa'\n",
    "print(R1)"
   ]
  },
  {
   "cell_type": "code",
   "execution_count": 31,
   "id": "39037d04",
   "metadata": {
    "scrolled": true
   },
   "outputs": [
    {
     "ename": "ValueError",
     "evalue": "math domain error",
     "output_type": "error",
     "traceback": [
      "\u001b[0;31m---------------------------------------------------------------------------\u001b[0m",
      "\u001b[0;31mValueError\u001b[0m                                Traceback (most recent call last)",
      "Cell \u001b[0;32mIn[31], line 3\u001b[0m\n\u001b[1;32m      1\u001b[0m \u001b[38;5;28;01mimport\u001b[39;00m \u001b[38;5;21;01mmath\u001b[39;00m\n\u001b[0;32m----> 3\u001b[0m result \u001b[38;5;241m=\u001b[39m \u001b[43mmath\u001b[49m\u001b[38;5;241;43m.\u001b[39;49m\u001b[43msqrt\u001b[49m\u001b[43m(\u001b[49m\u001b[38;5;241;43m-\u001b[39;49m\u001b[38;5;241;43m1.0\u001b[39;49m\u001b[43m)\u001b[49m\n",
      "\u001b[0;31mValueError\u001b[0m: math domain error"
     ]
    }
   ],
   "source": [
    "import math\n",
    "\n",
    "result = math.sqrt(-1.0)\n"
   ]
  },
  {
   "cell_type": "code",
   "execution_count": 30,
   "id": "57a7058b",
   "metadata": {},
   "outputs": [
    {
     "ename": "IndexError",
     "evalue": "list index out of range",
     "output_type": "error",
     "traceback": [
      "\u001b[0;31m---------------------------------------------------------------------------\u001b[0m",
      "\u001b[0;31mIndexError\u001b[0m                                Traceback (most recent call last)",
      "Cell \u001b[0;32mIn[30], line 4\u001b[0m\n\u001b[1;32m      1\u001b[0m \u001b[38;5;28mlist\u001b[39m \u001b[38;5;241m=\u001b[39m [\u001b[38;5;241m0\u001b[39m, \u001b[38;5;241m1\u001b[39m, \u001b[38;5;241m2\u001b[39m, \u001b[38;5;241m3\u001b[39m, \u001b[38;5;241m4\u001b[39m, \u001b[38;5;241m5\u001b[39m, \u001b[38;5;241m6\u001b[39m, \u001b[38;5;241m7\u001b[39m, \u001b[38;5;241m8\u001b[39m, \u001b[38;5;241m9\u001b[39m]\n\u001b[1;32m      3\u001b[0m \u001b[38;5;66;03m# 12 position is not available\u001b[39;00m\n\u001b[0;32m----> 4\u001b[0m item \u001b[38;5;241m=\u001b[39m \u001b[38;5;28;43mlist\u001b[39;49m\u001b[43m[\u001b[49m\u001b[38;5;241;43m12\u001b[39;49m\u001b[43m]\u001b[49m\n",
      "\u001b[0;31mIndexError\u001b[0m: list index out of range"
     ]
    }
   ],
   "source": [
    "\n",
    "list = [0, 1, 2, 3, 4, 5, 6, 7, 8, 9]\n",
    "\n",
    "# 12 position is not available\n",
    "item = list[12]\n"
   ]
  },
  {
   "cell_type": "code",
   "execution_count": 32,
   "id": "ac6c6ef8",
   "metadata": {},
   "outputs": [
    {
     "ename": "NameError",
     "evalue": "name 'x' is not defined",
     "output_type": "error",
     "traceback": [
      "\u001b[0;31m---------------------------------------------------------------------------\u001b[0m",
      "\u001b[0;31mNameError\u001b[0m                                 Traceback (most recent call last)",
      "Cell \u001b[0;32mIn[32], line 1\u001b[0m\n\u001b[0;32m----> 1\u001b[0m \u001b[38;5;28mprint\u001b[39m(\u001b[43mx\u001b[49m)\n",
      "\u001b[0;31mNameError\u001b[0m: name 'x' is not defined"
     ]
    }
   ],
   "source": [
    "print(x)"
   ]
  },
  {
   "cell_type": "code",
   "execution_count": 33,
   "id": "46bd3e38",
   "metadata": {},
   "outputs": [
    {
     "ename": "FileNotFoundError",
     "evalue": "[Errno 2] No such file or directory: 'non_existent_file.txt'",
     "output_type": "error",
     "traceback": [
      "\u001b[0;31m---------------------------------------------------------------------------\u001b[0m",
      "\u001b[0;31mFileNotFoundError\u001b[0m                         Traceback (most recent call last)",
      "Cell \u001b[0;32mIn[33], line 1\u001b[0m\n\u001b[0;32m----> 1\u001b[0m \u001b[38;5;28;01mwith\u001b[39;00m \u001b[38;5;28;43mopen\u001b[39;49m\u001b[43m(\u001b[49m\u001b[38;5;124;43m'\u001b[39;49m\u001b[38;5;124;43mnon_existent_file.txt\u001b[39;49m\u001b[38;5;124;43m'\u001b[39;49m\u001b[43m,\u001b[49m\u001b[43m \u001b[49m\u001b[38;5;124;43m'\u001b[39;49m\u001b[38;5;124;43mr\u001b[39;49m\u001b[38;5;124;43m'\u001b[39;49m\u001b[43m)\u001b[49m \u001b[38;5;28;01mas\u001b[39;00m file:\n\u001b[1;32m      2\u001b[0m     content \u001b[38;5;241m=\u001b[39m file\u001b[38;5;241m.\u001b[39mread()\n",
      "File \u001b[0;32m~/anaconda3/lib/python3.10/site-packages/IPython/core/interactiveshell.py:282\u001b[0m, in \u001b[0;36m_modified_open\u001b[0;34m(file, *args, **kwargs)\u001b[0m\n\u001b[1;32m    275\u001b[0m \u001b[38;5;28;01mif\u001b[39;00m file \u001b[38;5;129;01min\u001b[39;00m {\u001b[38;5;241m0\u001b[39m, \u001b[38;5;241m1\u001b[39m, \u001b[38;5;241m2\u001b[39m}:\n\u001b[1;32m    276\u001b[0m     \u001b[38;5;28;01mraise\u001b[39;00m \u001b[38;5;167;01mValueError\u001b[39;00m(\n\u001b[1;32m    277\u001b[0m         \u001b[38;5;124mf\u001b[39m\u001b[38;5;124m\"\u001b[39m\u001b[38;5;124mIPython won\u001b[39m\u001b[38;5;124m'\u001b[39m\u001b[38;5;124mt let you open fd=\u001b[39m\u001b[38;5;132;01m{\u001b[39;00mfile\u001b[38;5;132;01m}\u001b[39;00m\u001b[38;5;124m by default \u001b[39m\u001b[38;5;124m\"\u001b[39m\n\u001b[1;32m    278\u001b[0m         \u001b[38;5;124m\"\u001b[39m\u001b[38;5;124mas it is likely to crash IPython. If you know what you are doing, \u001b[39m\u001b[38;5;124m\"\u001b[39m\n\u001b[1;32m    279\u001b[0m         \u001b[38;5;124m\"\u001b[39m\u001b[38;5;124myou can use builtins\u001b[39m\u001b[38;5;124m'\u001b[39m\u001b[38;5;124m open.\u001b[39m\u001b[38;5;124m\"\u001b[39m\n\u001b[1;32m    280\u001b[0m     )\n\u001b[0;32m--> 282\u001b[0m \u001b[38;5;28;01mreturn\u001b[39;00m \u001b[43mio_open\u001b[49m\u001b[43m(\u001b[49m\u001b[43mfile\u001b[49m\u001b[43m,\u001b[49m\u001b[43m \u001b[49m\u001b[38;5;241;43m*\u001b[39;49m\u001b[43margs\u001b[49m\u001b[43m,\u001b[49m\u001b[43m \u001b[49m\u001b[38;5;241;43m*\u001b[39;49m\u001b[38;5;241;43m*\u001b[39;49m\u001b[43mkwargs\u001b[49m\u001b[43m)\u001b[49m\n",
      "\u001b[0;31mFileNotFoundError\u001b[0m: [Errno 2] No such file or directory: 'non_existent_file.txt'"
     ]
    }
   ],
   "source": [
    "with open('non_existent_file.txt', 'r') as file:\n",
    "    content = file.read()"
   ]
  },
  {
   "cell_type": "markdown",
   "id": "a84838dd",
   "metadata": {},
   "source": [
    "# Question 10\n",
    "Encryption is the process of hiding the meaning of a text by substituting letters in the\n",
    "message with other letters, according to some system. If the process is successful, no\n",
    "one but the intended recipient can understand the encrypted message. Cryptanalysis\n",
    "refers to attempts to undo the encryption, even if some details of the encryption are\n",
    "unknown (for example, if an encrypted message has been intercepted). The first step\n",
    "of cryptanalysis is often to build up a table of letter frequencies in the encrypted text.\n",
    "Assume that the string letters is already defined as\n",
    "'abcdefghijklmnopqrstuvwxyz'. Write a function called frequencies()\n",
    "that takes a string as its only parameter, and returns a list of integers, showing the\n",
    "number of times each character appears in the text. Your function may ignore any\n",
    "characters that are not in letters.\n",
    " frequencies('The quick red fox got bored and went home.')\n",
    "[1, 1, 1, 3, 5, 1, 1, 2, 1, 0, 1, 0, 1, 2, 4, 0, 1, 2, 0, 2,\n",
    "1, 0, 1, 1, 0, 0]\n",
    "frequencies('apple')"
   ]
  },
  {
   "cell_type": "code",
   "execution_count": 90,
   "id": "82315b6d",
   "metadata": {},
   "outputs": [
    {
     "data": {
      "text/plain": [
       "[0, 0, 0, 0, 1, 0, 0, 0, 0, 0, 0, 0, 0, 0, 0, 0, 0, 0, 0, 0, 0, 0, 0, 0, 0, 0]"
      ]
     },
     "execution_count": 90,
     "metadata": {},
     "output_type": "execute_result"
    }
   ],
   "source": [
    "def frequencies(text):\n",
    "    \n",
    "    letters = 'abcdefghijklmnopqrstuvwxyz'     #string of letters\n",
    "      \n",
    " \n",
    "    frequency_list = [0] * len(letters)           #frequencies of each letter\n",
    "    \n",
    " \n",
    "    text = text.lower()                         #convert to lower case\n",
    "    \n",
    "   \n",
    "    for char in text:\n",
    "                                              # Check if the character is a letter\n",
    "        if char in letters:\n",
    "            \n",
    "            index = letters.index(char)\n",
    "                                            \n",
    "    frequency_list[index] += 1               #incrementing the list\n",
    "    \n",
    "    return frequency_list\n",
    "\n",
    "frequencies('The quick red fox got bored and went home.')\n",
    "[1, 1, 1, 3, 5, 1, 1, 2, 1, 0, 1, 0, 1, 2, 4, 0, 1, 2, 0, 2,\n",
    "1, 0, 1, 1, 0, 0]\n",
    "frequencies('apple')\n",
    "\n"
   ]
  },
  {
   "cell_type": "code",
   "execution_count": null,
   "id": "f416b48c",
   "metadata": {},
   "outputs": [],
   "source": []
  },
  {
   "cell_type": "code",
   "execution_count": null,
   "id": "f2214685",
   "metadata": {},
   "outputs": [],
   "source": []
  }
 ],
 "metadata": {
  "kernelspec": {
   "display_name": "Python 3 (ipykernel)",
   "language": "python",
   "name": "python3"
  },
  "language_info": {
   "codemirror_mode": {
    "name": "ipython",
    "version": 3
   },
   "file_extension": ".py",
   "mimetype": "text/x-python",
   "name": "python",
   "nbconvert_exporter": "python",
   "pygments_lexer": "ipython3",
   "version": "3.10.9"
  }
 },
 "nbformat": 4,
 "nbformat_minor": 5
}
